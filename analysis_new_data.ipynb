{
 "cells": [
  {
   "cell_type": "code",
   "execution_count": 5,
   "metadata": {},
   "outputs": [],
   "source": [
    "import pickle"
   ]
  },
  {
   "cell_type": "code",
   "execution_count": 6,
   "metadata": {},
   "outputs": [],
   "source": [
    "def extract_edges(edges):\n",
    "    weights = list()\n",
    "    for e in edges:\n",
    "        weights.append(float(e[2]))\n",
    "    return weights"
   ]
  },
  {
   "cell_type": "code",
   "execution_count": 7,
   "metadata": {},
   "outputs": [],
   "source": [
    "cover_edges = pickle.load(open('./cover_edges_dev_web_courses_full.pickle', 'rb'))"
   ]
  },
  {
   "cell_type": "code",
   "execution_count": 9,
   "metadata": {},
   "outputs": [],
   "source": [
    "weight_cover_edges = extract_edges(cover_edges)"
   ]
  },
  {
   "cell_type": "code",
   "execution_count": 14,
   "metadata": {},
   "outputs": [
    {
     "name": "stdout",
     "output_type": "stream",
     "text": [
      "0.09 0.1 0\n",
      "0.1 0.2 500\n",
      "0.2 0.3 133\n",
      "0.3 0.4 62\n",
      "0.4 0.5 28\n",
      "0.5 1 31\n"
     ]
    },
    {
     "data": {
      "image/png": "[encoded data removed]",
      "text/plain": [
       "<Figure size 432x288 with 1 Axes>"
      ]
     },
     "metadata": {
      "needs_background": "light"
     },
     "output_type": "display_data"
    }
   ],
   "source": [
    "def draw_distribution_cover_graph(data):\n",
    "    bins = list()    \n",
    "    for i in range(1, 6, 1):\n",
    "        cnt = 0\n",
    "        if i == 1:\n",
    "            for d in data:\n",
    "                if d >= (0.09) and (d < (i / 10)):\n",
    "                    cnt += 1\n",
    "            print(0.09, i / 10, cnt)\n",
    "        else:            \n",
    "            for d in data:\n",
    "                if d >= ((i - 1) / 10) and (d < (i / 10)):\n",
    "                    cnt += 1\n",
    "            print((i - 1) / 10, i / 10, cnt)\n",
    "        bins.append(cnt)\n",
    "    cnt = 0\n",
    "    for d in data:\n",
    "        if d >= (0.5):\n",
    "            cnt += 1\n",
    "    print(0.5, 1, cnt)\n",
    "    bins.append(cnt)\n",
    "    bins.pop(0) \n",
    "    return bins\n",
    "y = draw_distribution_cover_graph(data=weight_cover_edges)\n",
    "\n",
    "import matplotlib.pyplot as plt\n",
    "fig = plt.figure()\n",
    "ax = fig.add_axes([0,0,1,1])\n",
    "plt.title('The Distribution of Weights in Net Cover Graph')\n",
    "plt.xlabel('Weight')\n",
    "plt.ylabel('Number of Edges')\n",
    "# plt.yscale('log')\n",
    "x = ['0.1-0.2', '0.2-0.3', '0.3-0.4', '0.4-0.5', '>=0.5']\n",
    "ax.bar(x,y)\n",
    "plt.show()"
   ]
  },
  {
   "cell_type": "code",
   "execution_count": 21,
   "metadata": {},
   "outputs": [],
   "source": [
    "import pandas as pd \n",
    "def top_weighted_degree_using_weight(edges, options, top):\n",
    "    root_node, dest_node, weight = list(), list(), list()\n",
    "    for e in edges:\n",
    "        root_node.append(e[0])\n",
    "        dest_node.append(e[1])\n",
    "        weight.append(float(e[2]))\n",
    "    df = pd.DataFrame({'root': root_node, 'dest': dest_node, 'weight': weight})\n",
    "    if options == 'indegree':\n",
    "        return df.groupby(['dest'])['weight'].sum().reset_index(name='weight').sort_values(['weight'], ascending=False).head(top)\n",
    "    elif options == 'outdegree':\n",
    "        return df.groupby(['root'])['weight'].sum().reset_index(name='weight').sort_values(['weight'], ascending=False).head(top)"
   ]
  },
  {
   "cell_type": "code",
   "execution_count": 22,
   "metadata": {},
   "outputs": [],
   "source": [
    "def num_concepts(cover_edges):\n",
    "    concepts = list()\n",
    "    for e in cover_edges:\n",
    "        concepts.append(e[0])\n",
    "        concepts.append(e[1])\n",
    "    concepts = list(set(concepts))\n",
    "    return len(concepts)"
   ]
  },
  {
   "cell_type": "code",
   "execution_count": 25,
   "metadata": {},
   "outputs": [
    {
     "name": "stdout",
     "output_type": "stream",
     "text": [
      "754\n"
     ]
    }
   ],
   "source": [
    "print(len(cover_edges))"
   ]
  },
  {
   "cell_type": "code",
   "execution_count": 23,
   "metadata": {},
   "outputs": [
    {
     "data": {
      "text/plain": [
       "(105, 2)"
      ]
     },
     "execution_count": 23,
     "metadata": {},
     "output_type": "execute_result"
    }
   ],
   "source": [
    "top_weighted_degree_using_weight(edges=cover_edges, options='indegree', top=num_concepts(cover_edges)).shape"
   ]
  },
  {
   "cell_type": "code",
   "execution_count": 24,
   "metadata": {},
   "outputs": [
    {
     "data": {
      "text/plain": [
       "(45, 2)"
      ]
     },
     "execution_count": 24,
     "metadata": {},
     "output_type": "execute_result"
    }
   ],
   "source": [
    "top_weighted_degree_using_weight(edges=cover_edges, options='outdegree', top=num_concepts(cover_edges)).shape"
   ]
  },
  {
   "cell_type": "code",
   "execution_count": 31,
   "metadata": {},
   "outputs": [
    {
     "name": "stdout",
     "output_type": "stream",
     "text": [
      "code,encoding\n",
      "json\n",
      "beginner's all-purpose symbolic instruction code basic,basic\n",
      "jquery\n",
      "php\n",
      ",quark\n",
      "j\n",
      "blog,blogging software\n",
      "websites,website\n",
      "nodejs,node.js\n",
      "bootstrap\n",
      "google\n",
      "website development,web development,web programming\n",
      "c\n",
      "rest,representational state transfer\n",
      "django\n",
      "ajax,afc ajax\n",
      "mongodb\n",
      "computer programming,programming\n",
      "learning\n",
      "html5\n",
      "wordpress\n",
      "html\n",
      "security\n",
      "mvc,model-view-controller\n",
      "my sql,mysql\n",
      "python programming,python\n",
      "designing,designs,design\n",
      "javascript\n",
      "system,systat\n",
      "30\n"
     ]
    }
   ],
   "source": [
    "net_cover_concepts_indegree = list(top_weighted_degree_using_weight(edges=cover_edges, options='indegree', top=num_concepts(cover_edges))['dest'])\n",
    "net_cover_concepts_outdegree = list(top_weighted_degree_using_weight(edges=cover_edges, options='outdegree', top=num_concepts(cover_edges))['root'])\n",
    "intersect_net_cover_concepts_in_out = list(set(net_cover_concepts_indegree) & set(net_cover_concepts_outdegree))\n",
    "for c in intersect_net_cover_concepts_in_out:\n",
    "    print(c)\n",
    "print(len(intersect_net_cover_concepts_in_out))"
   ]
  },
  {
   "cell_type": "code",
   "execution_count": 35,
   "metadata": {},
   "outputs": [],
   "source": [
    "order_edges = pickle.load(open('./order_edges_dev_web_courses_full.pickle', 'rb'))"
   ]
  },
  {
   "cell_type": "code",
   "execution_count": 36,
   "metadata": {},
   "outputs": [
    {
     "name": "stdout",
     "output_type": "stream",
     "text": [
      "0.09 0.1 0\n",
      "0.1 0.2 500\n",
      "0.2 0.3 133\n",
      "0.3 0.4 62\n",
      "0.4 0.5 28\n",
      "0.5 1 31\n"
     ]
    },
    {
     "data": {
      "image/png": "[encoded data removed]",
      "text/plain": [
       "<Figure size 432x288 with 1 Axes>"
      ]
     },
     "metadata": {
      "needs_background": "light"
     },
     "output_type": "display_data"
    }
   ],
   "source": [
    "def draw_distribution_net_graph(data):\n",
    "    bins = list()    \n",
    "    for i in range(1, 6, 1):\n",
    "        cnt = 0\n",
    "        if i == 1:\n",
    "            for d in data:\n",
    "                if d >= 0.025 and d < 0.1:\n",
    "                    cnt += 1\n",
    "            print(0.025, i / 10, cnt)\n",
    "        else:            \n",
    "            for d in data:\n",
    "                if d >= ((i - 1) / 10) and (d < (i / 10)):\n",
    "                    cnt += 1\n",
    "            print((i - 1) / 10, i / 10, cnt)\n",
    "        bins.append(cnt)\n",
    "    cnt = 0\n",
    "    for d in data:\n",
    "        if d >= (0.5):\n",
    "            cnt += 1\n",
    "    print(0.5, 1, cnt)\n",
    "    bins.append(cnt)\n",
    "#     bins.pop(0) \n",
    "    return bins\n",
    "y = draw_distribution_cover_graph(data=weight_cover_edges)\n",
    "\n",
    "import matplotlib.pyplot as plt\n",
    "fig = plt.figure()\n",
    "ax = fig.add_axes([0,0,1,1])\n",
    "plt.title('The Distribution of Weights in Net Cover Graph')\n",
    "plt.xlabel('Weight')\n",
    "plt.ylabel('Number of Edges')\n",
    "# plt.yscale('log')\n",
    "x = ['0.1-0.2', '0.2-0.3', '0.3-0.4', '0.4-0.5', '>=0.5']\n",
    "ax.bar(x,y)\n",
    "plt.show()"
   ]
  },
  {
   "cell_type": "code",
   "execution_count": 40,
   "metadata": {},
   "outputs": [],
   "source": [
    "weight_order_edges = extract_edges(order_edges)"
   ]
  },
  {
   "cell_type": "code",
   "execution_count": 47,
   "metadata": {},
   "outputs": [
    {
     "name": "stdout",
     "output_type": "stream",
     "text": [
      "[169, 21, 8, 9, 3]\n"
     ]
    },
    {
     "data": {
      "image/png": "[encoded data removed]",
      "text/plain": [
       "<Figure size 432x288 with 1 Axes>"
      ]
     },
     "metadata": {
      "needs_background": "light"
     },
     "output_type": "display_data"
    }
   ],
   "source": [
    "def draw_distribution_net_graph(data):\n",
    "    bins = list()    \n",
    "    cnt = 0\n",
    "    for d in data:\n",
    "        if d < 0.05:\n",
    "            cnt += 1\n",
    "    bins.append(cnt)\n",
    "    \n",
    "    cnt = 0\n",
    "    for d in data:\n",
    "        if d >= 0.05 and d < 0.075:\n",
    "            cnt += 1\n",
    "    bins.append(cnt)\n",
    "    \n",
    "    cnt = 0\n",
    "    for d in data:\n",
    "        if d >= 0.075 and d < 0.1:\n",
    "            cnt += 1\n",
    "    bins.append(cnt)\n",
    "    \n",
    "    cnt = 0\n",
    "    for d in data:\n",
    "        if d >= 0.1 and d < 0.15:\n",
    "            cnt += 1\n",
    "    bins.append(cnt)\n",
    "    \n",
    "    cnt = 0\n",
    "    for d in data:\n",
    "        if d >= 0.15:\n",
    "            cnt += 1\n",
    "    bins.append(cnt)\n",
    "    \n",
    "    return bins\n",
    "y = draw_distribution_net_graph(data=weight_order_edges)\n",
    "\n",
    "print(y)\n",
    "\n",
    "import matplotlib.pyplot as plt\n",
    "fig = plt.figure()\n",
    "ax = fig.add_axes([0,0,1,1])\n",
    "plt.title('The Distribution of Weights in Net Cover Graph')\n",
    "plt.xlabel('Weight')\n",
    "plt.ylabel('Number of Edges')\n",
    "plt.yscale('log')\n",
    "x = ['0.025-0.05', '0.05-0.075', '0.075-0.1', '0.1-0.15', '>=0.15']\n",
    "ax.bar(x,y)\n",
    "plt.show()"
   ]
  },
  {
   "cell_type": "code",
   "execution_count": 51,
   "metadata": {},
   "outputs": [
    {
     "data": {
      "text/plain": [
       "210"
      ]
     },
     "execution_count": 51,
     "metadata": {},
     "output_type": "execute_result"
    }
   ],
   "source": [
    "len(order_edges)"
   ]
  },
  {
   "cell_type": "code",
   "execution_count": 48,
   "metadata": {},
   "outputs": [
    {
     "data": {
      "text/plain": [
       "(34, 2)"
      ]
     },
     "execution_count": 48,
     "metadata": {},
     "output_type": "execute_result"
    }
   ],
   "source": [
    "top_weighted_degree_using_weight(edges=order_edges, options='indegree', top=num_concepts(order_edges)).shape"
   ]
  },
  {
   "cell_type": "code",
   "execution_count": 49,
   "metadata": {},
   "outputs": [
    {
     "data": {
      "text/plain": [
       "(79, 2)"
      ]
     },
     "execution_count": 49,
     "metadata": {},
     "output_type": "execute_result"
    }
   ],
   "source": [
    "top_weighted_degree_using_weight(edges=order_edges, options='outdegree', top=num_concepts(order_edges)).shape"
   ]
  },
  {
   "cell_type": "code",
   "execution_count": 50,
   "metadata": {},
   "outputs": [
    {
     "name": "stdout",
     "output_type": "stream",
     "text": [
      "code,encoding\n",
      "json\n",
      "beginner's all-purpose symbolic instruction code basic,basic\n",
      "process,operating system process control software\n",
      "file,flat file checker\n",
      "php\n",
      ",quark\n",
      "j\n",
      "websites,website\n",
      "bootstrap\n",
      "patternmaking software,pattern\n",
      "via information tools man-it,tool\n",
      "software libraries,library\n",
      "structure,load-bearing analysis software\n",
      "c\n",
      "database development,database management database systems,database,database management software\n",
      "django\n",
      "lecturing,lecture\n",
      "video\n",
      "reviews,review\n",
      "system,systat\n",
      "image\n",
      "html\n",
      "apple pages for mac,pages\n",
      "python programming,python\n",
      "writing\n",
      "designing,designs,design\n",
      "javascript\n",
      "learning\n",
      "after the deadline,after\n",
      "30\n"
     ]
    }
   ],
   "source": [
    "net_cover_concepts_indegree = list(top_weighted_degree_using_weight(edges=order_edges, options='indegree', top=num_concepts(order_edges))['dest'])\n",
    "net_cover_concepts_outdegree = list(top_weighted_degree_using_weight(edges=order_edges, options='outdegree', top=num_concepts(order_edges))['root'])\n",
    "intersect_net_cover_concepts_in_out = list(set(net_cover_concepts_indegree) & set(net_cover_concepts_outdegree))\n",
    "for c in intersect_net_cover_concepts_in_out:\n",
    "    print(c)\n",
    "print(len(intersect_net_cover_concepts_in_out))"
   ]
  },
  {
   "cell_type": "code",
   "execution_count": null,
   "metadata": {},
   "outputs": [],
   "source": []
  }
 ],
 "metadata": {
  "kernelspec": {
   "display_name": "Python 3",
   "language": "python",
   "name": "python3"
  },
  "language_info": {
   "codemirror_mode": {
    "name": "ipython",
    "version": 3
   },
   "file_extension": ".py",
   "mimetype": "text/x-python",
   "name": "python",
   "nbconvert_exporter": "python",
   "pygments_lexer": "ipython3",
   "version": "3.8.5"
  }
 },
 "nbformat": 4,
 "nbformat_minor": 4
}
